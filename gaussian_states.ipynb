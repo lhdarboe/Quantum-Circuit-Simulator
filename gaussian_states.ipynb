{
 "cells": [
  {
   "cell_type": "markdown",
   "id": "8aaf32ba",
   "metadata": {},
   "source": [
    "### A code which creates the Wigner interactive function in 2D and 3D with different squeezing parameters."
   ]
  },
  {
   "cell_type": "code",
   "execution_count": 26,
   "id": "d7445db8",
   "metadata": {},
   "outputs": [],
   "source": [
    "import numpy as np\n",
    "import ipywidgets as widgets\n",
    "from IPython.display import display\n",
    "from ipywidgets import interact, interactive, fixed, interact_manual\n",
    "import matplotlib.pyplot as plt\n",
    "from mpl_toolkits.mplot3d import Axes3D "
   ]
  },
  {
   "cell_type": "markdown",
   "id": "ce765c6e",
   "metadata": {},
   "source": [
    "First testing out the interactive plots"
   ]
  },
  {
   "cell_type": "code",
   "execution_count": 2,
   "id": "f249dcc2",
   "metadata": {},
   "outputs": [
    {
     "data": {
      "application/vnd.jupyter.widget-view+json": {
       "model_id": "9af4dda5d6f348a3a4c83814dc4d917f",
       "version_major": 2,
       "version_minor": 0
      },
      "text/plain": [
       "interactive(children=(FloatSlider(value=1.0, description='A', max=10.0, min=-10.0), Output()), _dom_classes=('…"
      ]
     },
     "metadata": {},
     "output_type": "display_data"
    },
    {
     "data": {
      "text/plain": [
       "<function __main__.interactive_plot(A)>"
      ]
     },
     "execution_count": 2,
     "metadata": {},
     "output_type": "execute_result"
    }
   ],
   "source": [
    "def model(x,A):\n",
    "    return np.sin(x)*A\n",
    "\n",
    "def interactive_plot(A):\n",
    "    x = np.linspace(0,10,100)\n",
    "    y = model(x,A)\n",
    "    plt.plot(x,y)\n",
    "    plt.grid(True)\n",
    "    plt.xlabel('x')\n",
    "    plt.ylabel('y')\n",
    "    plt.title(f'{A}sin(x)')\n",
    "    return\n",
    "\n",
    "interact(interactive_plot, A=widgets.FloatSlider(value=1, min=-10, max=10, step=0.1))\n"
   ]
  },
  {
   "cell_type": "markdown",
   "id": "2ed5a8a1",
   "metadata": {},
   "source": [
    "Defining the Wigner function"
   ]
  },
  {
   "cell_type": "code",
   "execution_count": 3,
   "id": "8e7b36ca",
   "metadata": {},
   "outputs": [],
   "source": [
    "# Create functions for calculating the Wigner function of a general Gaussian state.\n",
    "\n",
    "def WignerFunction(x,p,x_displacement,y_displacement,sigma,n=1): \n",
    "\n",
    "    r_vec = np.array([x, p])\n",
    "    \n",
    "    x_mean = np.mean(x) \n",
    "    p_mean = np.mean(p) \n",
    "\n",
    "    r_vec_mean = np.array([x_displacement,y_displacement])\n",
    "    \n",
    "    delta = r_vec - r_vec_mean\n",
    "\n",
    "    \n",
    "\n",
    "    Wigner = ( 1 / ( (2*np.pi)**n * np.sqrt(np.linalg.det(sigma)) ) ) * np.exp( -0.5 * (delta).T @ np.linalg.inv(sigma) @ (delta) )\n",
    "    return Wigner"
   ]
  },
  {
   "cell_type": "code",
   "execution_count": null,
   "id": "c6376720",
   "metadata": {},
   "outputs": [],
   "source": [
    "def Wigner_Plot(sigma,x_displacement,y_displacement):\n",
    "    x = np.linspace(-5,5,200)\n",
    "    p = np.linspace(-5,5,200)\n",
    "\n",
    "    X,P = np.meshgrid(x,p)\n",
    "\n",
    "    W = np.zeros_like(X)\n",
    "\n",
    "    for i in range(X.shape[0]):\n",
    "        for j in range(X.shape[1]):\n",
    "            W[i, j] = WignerFunction(X[i, j], P[i, j],x_displacement,y_displacement,sigma)\n",
    "\n",
    "    return W, X, P\n"
   ]
  },
  {
   "cell_type": "markdown",
   "id": "626f9256",
   "metadata": {},
   "source": [
    "Creating a function which changes sigma depending on the squeezing factor"
   ]
  },
  {
   "cell_type": "code",
   "execution_count": 45,
   "id": "be13ca7a",
   "metadata": {},
   "outputs": [],
   "source": [
    "sigma_vacuum = 0.5*np.eye(2)\n",
    "x_vacuum,p_vacuum = 0,0\n",
    "\n",
    "r = 1\n",
    "\n",
    "wigner_sqz_x = 0.5*np.array([\n",
    "    [np.exp(-2*r),0],\n",
    "    [0,np.exp(2*r)]\n",
    "])\n",
    "\n",
    "wigner_sqz_p = 0.5*np.array([\n",
    "    [np.exp(2*r),0],\n",
    "    [0,np.exp(-2*r)]\n",
    "])\n",
    "\n",
    "def sigma_func(r):\n",
    "    sigma_sqz = 0.5*np.array([ [np.exp(2*r),0], [0,np.exp(-2*r)]])\n",
    "    \n",
    "    return sigma_sqz\n",
    "\n",
    "def sigma_func_theta(r, theta):\n",
    "    S_theta = np.array ([[np.cos(theta), np.sin(theta)],\n",
    "                         [np.sin(theta), -np.cos(theta)]])\n",
    "    sigma_sqz_theta = 0.5 * np.cosh(2*r)*np.eye(2) - 0.5 * np.sinh(2*r)*S_theta\n",
    "    \n",
    "    return sigma_sqz_theta\n",
    "\n",
    "#wigner_vacuum, X, P  = Wigner_Plot(sigma_vacuum,x_vacuum,p_vacuum)\n",
    "#wigner_sqz_x, X, P = Wigner_Plot(wigner_sqz_x,0,0)\n",
    "wigner_sqz_p, X, P = Wigner_Plot(sigma_func(0.1),0,0)\n"
   ]
  },
  {
   "cell_type": "code",
   "execution_count": 48,
   "id": "7986c859",
   "metadata": {},
   "outputs": [],
   "source": [
    "def interactive_Wigner_Plot(r, x0, p0, theta):\n",
    "    \n",
    "    W = Wigner_Plot(sigma_func_theta(r, theta),x0,p0)\n",
    "\n",
    "    plt.figure(figsize=(8,6))\n",
    "    plt.contourf(X, P, W[0], levels=50, cmap='magma')\n",
    "    plt.colorbar(label='Wigner function')\n",
    "    plt.xlabel('x')\n",
    "    plt.ylabel('p')\n",
    "    plt.title('2D Wigner function plot')\n",
    "    plt.show()\n",
    "    return"
   ]
  },
  {
   "cell_type": "code",
   "execution_count": 51,
   "id": "75cfb056",
   "metadata": {},
   "outputs": [
    {
     "data": {
      "application/vnd.jupyter.widget-view+json": {
       "model_id": "0731878ed08243a18b45def3b27cd9df",
       "version_major": 2,
       "version_minor": 0
      },
      "text/plain": [
       "interactive(children=(FloatSlider(value=0.0, description='r', max=3.0, min=-3.0), FloatSlider(value=0.0, descr…"
      ]
     },
     "metadata": {},
     "output_type": "display_data"
    },
    {
     "data": {
      "text/plain": [
       "<function __main__.interactive_Wigner_Plot(r, x0, p0, theta)>"
      ]
     },
     "execution_count": 51,
     "metadata": {},
     "output_type": "execute_result"
    }
   ],
   "source": [
    "interact(interactive_Wigner_Plot, \n",
    "         r=widgets.FloatSlider(value=0, min=-3, max=3, step=0.1),\n",
    "         x0=widgets.FloatSlider(value=0.0, min=-4.0, max=4.0, step=0.1, description='x'),\n",
    "         p0=widgets.FloatSlider(value=0.0, min=-4.0, max=4.0, step=0.1, description='p'),\n",
    "         theta=widgets.FloatSlider(value=0.0, min=-np.pi, max=np.pi, step=0.1, description='theta'))"
   ]
  },
  {
   "cell_type": "code",
   "execution_count": null,
   "id": "64d142df",
   "metadata": {},
   "outputs": [
    {
     "data": {
      "application/vnd.jupyter.widget-view+json": {
       "model_id": "20e86c8945e449cebb9bc2fa3f46eabe",
       "version_major": 2,
       "version_minor": 0
      },
      "text/plain": [
       "interactive(children=(FloatSlider(value=0.0, description='r', max=1.0, min=-1.0), FloatSlider(value=0.0, descr…"
      ]
     },
     "metadata": {},
     "output_type": "display_data"
    },
    {
     "data": {
      "text/plain": [
       "<function __main__.interactive_Wigner_Plot_3D(r, x0, p0, theta)>"
      ]
     },
     "execution_count": 57,
     "metadata": {},
     "output_type": "execute_result"
    }
   ],
   "source": [
    "def interactive_Wigner_Plot_3D(r, x0, p0, theta):\n",
    "    fig = plt.figure(figsize=(8, 6))\n",
    "    ax = fig.add_subplot(111, projection='3d')\n",
    "\n",
    "    W,_,_ = Wigner_Plot(sigma_func_theta(r, theta), x0, p0)\n",
    "\n",
    "    ax.plot_surface(X, P, W, cmap='magma', edgecolor='none')\n",
    "\n",
    "    ax.set_xlabel('x')\n",
    "    ax.set_ylabel('p')\n",
    "    ax.set_zlabel('W(x, p)')\n",
    "    ax.set_title('3D Wigner Function')\n",
    "\n",
    "    plt.tight_layout()\n",
    "    plt.show()\n",
    "\n",
    "    return\n",
    "\n",
    "interact(interactive_Wigner_Plot_3D, \n",
    "         r=widgets.FloatSlider(value=0, min=-1, max=1, step=0.1),\n",
    "         x0=widgets.FloatSlider(value=0.0, min=-4.0, max=4.0, step=0.1, description='x₀'),\n",
    "         p0=widgets.FloatSlider(value=0.0, min=-4.0, max=4.0, step=0.1, description='p₀'),\n",
    "         theta=widgets.FloatSlider(value=0.0, min=-2*np.pi, max=2*np.pi, step=0.1, description='theta'))"
   ]
  },
  {
   "cell_type": "code",
   "execution_count": null,
   "id": "dde9d4f0",
   "metadata": {},
   "outputs": [],
   "source": []
  }
 ],
 "metadata": {
  "kernelspec": {
   "display_name": ".venv (3.13.1)",
   "language": "python",
   "name": "python3"
  },
  "language_info": {
   "codemirror_mode": {
    "name": "ipython",
    "version": 3
   },
   "file_extension": ".py",
   "mimetype": "text/x-python",
   "name": "python",
   "nbconvert_exporter": "python",
   "pygments_lexer": "ipython3",
   "version": "3.13.1"
  }
 },
 "nbformat": 4,
 "nbformat_minor": 5
}
