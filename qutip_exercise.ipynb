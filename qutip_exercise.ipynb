{
 "cells": [
  {
   "cell_type": "code",
   "execution_count": 1,
   "id": "25ad54fb",
   "metadata": {},
   "outputs": [],
   "source": [
    "import numpy as np\n",
    "from IPython.display import Image\n",
    "from qutip import (Qobj, about, basis, coherent, coherent_dm, create, destroy,\n",
    "                   expect, fock, fock_dm, mesolve, qeye, sigmax, sigmay,\n",
    "                   sigmaz, tensor, thermal_dm, anim_matrix_histogram,\n",
    "                   anim_fock_distribution)"
   ]
  },
  {
   "cell_type": "markdown",
   "id": "f8eaee42",
   "metadata": {},
   "source": [
    "## Fundamental \n",
    "\n",
    "#### Playing around with QuTip for the first time"
   ]
  },
  {
   "cell_type": "code",
   "execution_count": null,
   "id": "5c4afd8c",
   "metadata": {},
   "outputs": [
    {
     "ename": "NameError",
     "evalue": "name 'Qobj' is not defined",
     "output_type": "error",
     "traceback": [
      "\u001b[31m---------------------------------------------------------------------------\u001b[39m",
      "\u001b[31mNameError\u001b[39m                                 Traceback (most recent call last)",
      "\u001b[36mCell\u001b[39m\u001b[36m \u001b[39m\u001b[32mIn[2]\u001b[39m\u001b[32m, line 1\u001b[39m\n\u001b[32m----> \u001b[39m\u001b[32m1\u001b[39m q = \u001b[43mQobj\u001b[49m([[\u001b[32m1\u001b[39m],[\u001b[32m1\u001b[39m]])\n\u001b[32m      3\u001b[39m \u001b[38;5;28mprint\u001b[39m(q.dims, q.shape, q.type)\n\u001b[32m      5\u001b[39m op = Qobj([[\u001b[32m1\u001b[39m + \u001b[32m1\u001b[39mj,\u001b[32m2\u001b[39m + \u001b[32m1\u001b[39mj],[\u001b[32m4\u001b[39m,\u001b[32m1\u001b[39m]])\n",
      "\u001b[31mNameError\u001b[39m: name 'Qobj' is not defined"
     ]
    }
   ],
   "source": [
    "q = Qobj([[1],[1]])\n",
    "\n",
    "print(q.dims, q.shape, q.type)\n",
    "\n",
    "op = Qobj([[1 + 1j,2 + 1j],[4,1]])\n",
    "\n",
    "print('eigenenergies: ',op.eigenenergies())"
   ]
  },
  {
   "cell_type": "markdown",
   "id": "c836f58a",
   "metadata": {},
   "source": [
    "## Basis Vectors"
   ]
  },
  {
   "cell_type": "code",
   "execution_count": 4,
   "id": "dd269fcf",
   "metadata": {},
   "outputs": [
    {
     "data": {
      "text/latex": [
       "Quantum object: dims=[[4], [1]], shape=(4, 1), type='ket', dtype=Dense$$\\left(\\begin{array}{cc}0\\\\0\\\\1\\\\0\\end{array}\\right)$$"
      ],
      "text/plain": [
       "Quantum object: dims=[[4], [1]], shape=(4, 1), type='ket', dtype=Dense\n",
       "Qobj data =\n",
       "[[0.]\n",
       " [0.]\n",
       " [1.]\n",
       " [0.]]"
      ]
     },
     "execution_count": 4,
     "metadata": {},
     "output_type": "execute_result"
    }
   ],
   "source": [
    "N = 4 # number of modes\n",
    "n = 2 # number of photons\n",
    "\n",
    "state = basis (N,n)\n",
    "state"
   ]
  },
  {
   "cell_type": "code",
   "execution_count": 5,
   "id": "2d58342d",
   "metadata": {},
   "outputs": [
    {
     "data": {
      "text/latex": [
       "Quantum object: dims=[[4], [1]], shape=(4, 1), type='ket', dtype=Dense$$\\left(\\begin{array}{cc}0\\\\0\\\\1\\\\0\\end{array}\\right)$$"
      ],
      "text/plain": [
       "Quantum object: dims=[[4], [1]], shape=(4, 1), type='ket', dtype=Dense\n",
       "Qobj data =\n",
       "[[0.]\n",
       " [0.]\n",
       " [1.]\n",
       " [0.]]"
      ]
     },
     "execution_count": 5,
     "metadata": {},
     "output_type": "execute_result"
    }
   ],
   "source": [
    "fock(4,2)"
   ]
  },
  {
   "cell_type": "code",
   "execution_count": null,
   "id": "6630815f",
   "metadata": {},
   "outputs": [
    {
     "data": {
      "text/latex": [
       "Quantum object: dims=[[30], [1]], shape=(30, 1), type='ket', dtype=Dense$$\\left(\\begin{array}{cc}0.135\\\\0.271\\\\0.383\\\\0.442\\\\0.442\\\\\\vdots\\\\1.153\\times10^{ -6 }\\\\4.521\\times10^{ -7 }\\\\1.744\\times10^{ -7 }\\\\6.470\\times10^{ -8 }\\\\2.762\\times10^{ -8 }\\end{array}\\right)$$"
      ],
      "text/plain": [
       "Quantum object: dims=[[30], [1]], shape=(30, 1), type='ket', dtype=Dense\n",
       "Qobj data =\n",
       "[[1.35335283e-01]\n",
       " [2.70670566e-01]\n",
       " [3.82785986e-01]\n",
       " [4.42003184e-01]\n",
       " [4.42003184e-01]\n",
       " [3.95339666e-01]\n",
       " [3.22793486e-01]\n",
       " [2.44008940e-01]\n",
       " [1.72540376e-01]\n",
       " [1.15026917e-01]\n",
       " [7.27494101e-02]\n",
       " [4.38695449e-02]\n",
       " [2.53280936e-02]\n",
       " [1.40494985e-02]\n",
       " [7.50977282e-03]\n",
       " [3.87803001e-03]\n",
       " [1.93901501e-03]\n",
       " [9.40560433e-04]\n",
       " [4.43384440e-04]\n",
       " [2.03438733e-04]\n",
       " [9.09805674e-05]\n",
       " [3.97071751e-05]\n",
       " [1.69311956e-05]\n",
       " [7.06079956e-06]\n",
       " [2.88254871e-06]\n",
       " [1.15305673e-06]\n",
       " [4.52141399e-07]\n",
       " [1.74428430e-07]\n",
       " [6.47047818e-08]\n",
       " [2.76188397e-08]]"
      ]
     },
     "execution_count": 6,
     "metadata": {},
     "output_type": "execute_result"
    }
   ],
   "source": [
    "coherent(30, alpha = 2)"
   ]
  },
  {
   "cell_type": "code",
   "execution_count": 8,
   "id": "da5263f6",
   "metadata": {},
   "outputs": [
    {
     "data": {
      "text/latex": [
       "Quantum object: dims=[[10], [1]], shape=(10, 1), type='ket', dtype=Dense$$\\left(\\begin{array}{cc}0.135\\\\0.271\\\\0.383\\\\0.442\\\\0.441\\\\0.397\\\\0.318\\\\0.256\\\\0.148\\\\0.159\\end{array}\\right)$$"
      ],
      "text/plain": [
       "Quantum object: dims=[[10], [1]], shape=(10, 1), type='ket', dtype=Dense\n",
       "Qobj data =\n",
       "[[0.13533468]\n",
       " [0.27067598]\n",
       " [0.38275331]\n",
       " [0.44215515]\n",
       " [0.4414275 ]\n",
       " [0.39717038]\n",
       " [0.31781378]\n",
       " [0.25575028]\n",
       " [0.14827955]\n",
       " [0.15941954]]"
      ]
     },
     "execution_count": 8,
     "metadata": {},
     "output_type": "execute_result"
    }
   ],
   "source": [
    "coherent(10, alpha = 2)"
   ]
  },
  {
   "cell_type": "code",
   "execution_count": 22,
   "id": "27d127db",
   "metadata": {},
   "outputs": [
    {
     "data": {
      "text/plain": [
       "array([-6.21450822e-17, -1.30579902e-17,  5.01412036e-17,  1.00000000e+00])"
      ]
     },
     "execution_count": 22,
     "metadata": {},
     "output_type": "execute_result"
    }
   ],
   "source": [
    "# density matrices\n",
    "\n",
    "coherent_dm(2,1)\n",
    "\n",
    "coherent_dm(4,3).eigenenergies()"
   ]
  },
  {
   "cell_type": "code",
   "execution_count": null,
   "id": "ec964145",
   "metadata": {},
   "outputs": [
    {
     "data": {
      "text/latex": [
       "Quantum object: dims=[[2], [2]], shape=(2, 2), type='oper', dtype=CSR, isherm=True$$\\left(\\begin{array}{cc}0 & 1\\\\1 & 0\\end{array}\\right)$$"
      ],
      "text/plain": [
       "Quantum object: dims=[[2], [2]], shape=(2, 2), type='oper', dtype=CSR, isherm=True\n",
       "Qobj data =\n",
       "[[0. 1.]\n",
       " [1. 0.]]"
      ]
     },
     "execution_count": 23,
     "metadata": {},
     "output_type": "execute_result"
    }
   ],
   "source": [
    "sigmax()\n"
   ]
  },
  {
   "cell_type": "code",
   "execution_count": null,
   "id": "24f207ef",
   "metadata": {},
   "outputs": [],
   "source": []
  }
 ],
 "metadata": {
  "kernelspec": {
   "display_name": "Python (uv-env)",
   "language": "python",
   "name": "uv-env"
  },
  "language_info": {
   "codemirror_mode": {
    "name": "ipython",
    "version": 3
   },
   "file_extension": ".py",
   "mimetype": "text/x-python",
   "name": "python",
   "nbconvert_exporter": "python",
   "pygments_lexer": "ipython3",
   "version": "3.13.1"
  }
 },
 "nbformat": 4,
 "nbformat_minor": 5
}
