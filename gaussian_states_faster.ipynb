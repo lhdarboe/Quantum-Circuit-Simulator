{
 "cells": [
  {
   "cell_type": "markdown",
   "id": "8aaf32ba",
   "metadata": {},
   "source": [
    "### A code which creates the Wigner interactive function in 2D and 3D with different squeezing parameters."
   ]
  },
  {
   "cell_type": "code",
   "execution_count": 30,
   "id": "d7445db8",
   "metadata": {},
   "outputs": [],
   "source": [
    "import numpy as np\n",
    "import ipywidgets as widgets\n",
    "from IPython.display import display\n",
    "from ipywidgets import interact, interactive, fixed, interact_manual\n",
    "import matplotlib.pyplot as plt\n",
    "from mpl_toolkits.mplot3d import Axes3D \n",
    "from numba import njit\n",
    "%load_ext line_profiler\n",
    "\n"
   ]
  },
  {
   "cell_type": "markdown",
   "id": "ce765c6e",
   "metadata": {},
   "source": [
    "First testing out the interactive plots"
   ]
  },
  {
   "cell_type": "code",
   "execution_count": 22,
   "id": "f249dcc2",
   "metadata": {},
   "outputs": [
    {
     "data": {
      "application/vnd.jupyter.widget-view+json": {
       "model_id": "82b5034cdd3e4f0a9ea86417d3ba0170",
       "version_major": 2,
       "version_minor": 0
      },
      "text/plain": [
       "interactive(children=(FloatSlider(value=1.0, description='A', max=10.0, min=-10.0), Output()), _dom_classes=('…"
      ]
     },
     "metadata": {},
     "output_type": "display_data"
    },
    {
     "data": {
      "text/plain": [
       "<function __main__.interactive_plot(A)>"
      ]
     },
     "execution_count": 22,
     "metadata": {},
     "output_type": "execute_result"
    }
   ],
   "source": [
    "def model(x,A):\n",
    "    return np.sin(x)*A\n",
    "\n",
    "def interactive_plot(A):\n",
    "    x = np.linspace(0,10,100)\n",
    "    y = model(x,A)\n",
    "    plt.plot(x,y)\n",
    "    plt.grid(True)\n",
    "    plt.xlabel('x')\n",
    "    plt.ylabel('y')\n",
    "    plt.title(f'{A}sin(x)')\n",
    "    return\n",
    "\n",
    "interact(interactive_plot, A=widgets.FloatSlider(value=1, min=-10, max=10, step=0.1))\n"
   ]
  },
  {
   "cell_type": "markdown",
   "id": "2ed5a8a1",
   "metadata": {},
   "source": [
    "Defining the Wigner function"
   ]
  },
  {
   "cell_type": "code",
   "execution_count": 23,
   "id": "8e7b36ca",
   "metadata": {},
   "outputs": [
    {
     "data": {
      "text/plain": [
       "'\\n@njit \\ndef WignerFunction(x,p,x_displacement,y_displacement,sigma,theta,r, n=1): \\n\\n    S_theta = np.array ([[np.cos(theta), np.sin(theta)],\\n                         [np.sin(theta), -np.cos(theta)]])\\n    sigma = 0.5 * np.cosh(2*r)*np.eye(2) - 0.5 * np.sinh(2*r)*S_theta\\n\\n    r_vec = np.array([x, p])\\n\\n    x_mean = np.mean(x) \\n    p_mean = np.mean(p) \\n\\n    r_vec_mean = np.array([x_displacement,y_displacement])\\n\\n    delta = r_vec - r_vec_mean\\n\\n    Wigner = ( 1 / ( (2*np.pi)**n * det_sigma ) ) * np.exp( -0.5 * (delta).T @ inv_sigma @ (delta) )\\n    return Wigner'"
      ]
     },
     "execution_count": 23,
     "metadata": {},
     "output_type": "execute_result"
    }
   ],
   "source": [
    "# Create functions for calculating the Wigner function of a general Gaussian state.\n",
    "\n",
    "sigma = np.array([[1, 0], [0, 1]])*0.5\n",
    "det_sigma = np.linalg.det(sigma)\n",
    "inv_sigma = np.linalg.inv(sigma)\n",
    "\n",
    "def inv(sigma, delta):\n",
    "    return np.exp( -0.5 * (delta).T @ np.linalg.inv(sigma) @ (delta) )\n",
    "\"\"\"\n",
    "@njit \n",
    "def WignerFunction(x,p,x_displacement,y_displacement,sigma,theta,r, n=1): \n",
    "\n",
    "    S_theta = np.array ([[np.cos(theta), np.sin(theta)],\n",
    "                         [np.sin(theta), -np.cos(theta)]])\n",
    "    sigma = 0.5 * np.cosh(2*r)*np.eye(2) - 0.5 * np.sinh(2*r)*S_theta\n",
    "\n",
    "    r_vec = np.array([x, p])\n",
    "    \n",
    "    x_mean = np.mean(x) \n",
    "    p_mean = np.mean(p) \n",
    "\n",
    "    r_vec_mean = np.array([x_displacement,y_displacement])\n",
    "    \n",
    "    delta = r_vec - r_vec_mean\n",
    "\n",
    "    Wigner = ( 1 / ( (2*np.pi)**n * det_sigma ) ) * np.exp( -0.5 * (delta).T @ inv_sigma @ (delta) )\n",
    "    return Wigner\"\"\""
   ]
  },
  {
   "cell_type": "code",
   "execution_count": null,
   "id": "c6376720",
   "metadata": {},
   "outputs": [],
   "source": [
    "x = np.linspace(-5,5,200)\n",
    "p = np.linspace(-5,5,200)\n",
    "\n",
    "X,P = np.meshgrid(x,p)\n",
    "W = np.zeros_like(X)\n",
    "\n",
    "\n",
    "def compute_sigma(theta, r):\n",
    "    S_theta = np.array([[np.cos(theta), np.sin(theta)],\n",
    "                        [np.sin(theta), -np.cos(theta)]])\n",
    "    sigma = 0.5 * np.cosh(2*r)*np.eye(2) - 0.5 * np.sinh(2*r)*S_theta\n",
    "    return sigma\n",
    "\n",
    "inv_sigma = np.linalg.inv(sigma)\n",
    "det_sigma_sqrt = np.sqrt(np.linalg.det(sigma))\n",
    "\n",
    "@njit\n",
    "def wigner_function_numba(X, P, x_disp, y_disp, inv_sigma, det_sigma_sqrt, r, theta):\n",
    "    dx = X - x_disp\n",
    "    dp = P - y_disp\n",
    "    \n",
    "    # Quadratic form delta.T @ inv_sigma @ delta (expanded for 2D)\n",
    "    #exponent = np.exp( -0.5 * (np.array([dx, dp])).T @ inv_sigma @ (np.array([dx, dp])) ) Its just explicit written out instead of the line above\n",
    "    exponent = -0.5 * (inv_sigma[0,0]*dx*dx + \n",
    "                       (inv_sigma[0,1] + inv_sigma[1,0])*dx*dp + \n",
    "                       inv_sigma[1,1]*dp*dp)\n",
    "    \n",
    "    normalization = 1.0 / ((2*np.pi)**1 * det_sigma_sqrt)\n",
    "    \n",
    "    return normalization * np.exp(exponent)\n"
   ]
  },
  {
   "cell_type": "markdown",
   "id": "626f9256",
   "metadata": {},
   "source": [
    "Creating a function which changes sigma depending on the squeezing factor"
   ]
  },
  {
   "cell_type": "code",
   "execution_count": 25,
   "id": "be13ca7a",
   "metadata": {},
   "outputs": [
    {
     "data": {
      "text/plain": [
       "<matplotlib.contour.QuadContourSet at 0x11befb250>"
      ]
     },
     "execution_count": 25,
     "metadata": {},
     "output_type": "execute_result"
    },
    {
     "data": {
      "image/png": "[encoded data removed]",
      "text/plain": [
       "<Figure size 640x480 with 1 Axes>"
      ]
     },
     "metadata": {},
     "output_type": "display_data"
    }
   ],
   "source": [
    "theta_1 = 0.0\n",
    "r_1 = 0\n",
    "\n",
    "x_disp = 0.0\n",
    "y_disp = 0.0\n",
    "\n",
    "W1 = wigner_function_numba(X, P, x_disp, y_disp, inv_sigma, det_sigma_sqrt, r_1, theta_1)\n",
    "\n",
    "plt.contourf(X, P, W1, levels=50, cmap='magma')"
   ]
  },
  {
   "cell_type": "code",
   "execution_count": 26,
   "id": "7986c859",
   "metadata": {},
   "outputs": [],
   "source": [
    "def interactive_Wigner_Plot(r, x_disp, y_disp, theta):\n",
    "\n",
    "    sigma = compute_sigma(theta, r)\n",
    "    inv_sigma = np.linalg.inv(sigma)\n",
    "    det_sigma_sqrt = np.sqrt(np.linalg.det(sigma))\n",
    "\n",
    "    W = wigner_function_numba(X, P, x_disp, y_disp, inv_sigma, det_sigma_sqrt, r, theta)\n",
    "\n",
    "    plt.figure(figsize=(8,6))\n",
    "    plt.contourf(X, P, W, levels=50, cmap='magma')\n",
    "    plt.colorbar(label='Wigner function')\n",
    "    plt.xlabel('x')\n",
    "    plt.ylabel('p')\n",
    "    plt.title('2D Wigner function plot')\n",
    "    plt.show()\n",
    "    return"
   ]
  },
  {
   "cell_type": "code",
   "execution_count": null,
   "id": "75cfb056",
   "metadata": {},
   "outputs": [
    {
     "data": {
      "application/vnd.jupyter.widget-view+json": {
       "model_id": "82d4d012f9b7453cad623ab9e551df91",
       "version_major": 2,
       "version_minor": 0
      },
      "text/plain": [
       "interactive(children=(FloatSlider(value=0.0, description='r', max=3.0, min=-3.0), FloatSlider(value=0.0, descr…"
      ]
     },
     "metadata": {},
     "output_type": "display_data"
    },
    {
     "data": {
      "text/plain": [
       "<function __main__.interactive_Wigner_Plot(r, x_disp, y_disp, theta)>"
      ]
     },
     "execution_count": 27,
     "metadata": {},
     "output_type": "execute_result"
    }
   ],
   "source": [
    "interact(interactive_Wigner_Plot, \n",
    "         r=widgets.FloatSlider(value=0, min=-3, max=3, step=0.1),\n",
    "         x_disp=widgets.FloatSlider(value=0.0, min=-4.0, max=4.0, step=0.1, description='x'),\n",
    "         y_disp=widgets.FloatSlider(value=0.0, min=-4.0, max=4.0, step=0.1, description='p'),\n",
    "         theta=widgets.FloatSlider(value=0.0, min=-2*np.pi, max=2*np.pi, step=0.1, description='theta'))"
   ]
  },
  {
   "cell_type": "code",
   "execution_count": null,
   "id": "64d142df",
   "metadata": {},
   "outputs": [
    {
     "data": {
      "application/vnd.jupyter.widget-view+json": {
       "model_id": "a472016da9e543ed8495f00e3d995503",
       "version_major": 2,
       "version_minor": 0
      },
      "text/plain": [
       "interactive(children=(FloatSlider(value=0.0, description='r', max=3.0, min=-3.0), FloatSlider(value=0.0, descr…"
      ]
     },
     "metadata": {},
     "output_type": "display_data"
    },
    {
     "data": {
      "text/plain": [
       "<function __main__.interactive_Wigner_Plot_3D(r, x_disp, y_disp, theta)>"
      ]
     },
     "execution_count": 28,
     "metadata": {},
     "output_type": "execute_result"
    }
   ],
   "source": [
    "def interactive_Wigner_Plot_3D(r, x_disp, y_disp, theta):\n",
    "    fig = plt.figure(figsize=(8, 6))\n",
    "    ax = fig.add_subplot(111, projection='3d')\n",
    "\n",
    "    sigma = compute_sigma(theta, r)\n",
    "    inv_sigma = np.linalg.inv(sigma)\n",
    "    det_sigma_sqrt = np.sqrt(np.linalg.det(sigma))\n",
    "\n",
    "    W = wigner_function_numba(X, P, x_disp, y_disp, inv_sigma, det_sigma_sqrt, r, theta)\n",
    "\n",
    "    ax.plot_surface(X, P, W, cmap='magma', edgecolor='none')\n",
    "\n",
    "    ax.set_xlabel('x')\n",
    "    ax.set_ylabel('p')\n",
    "    ax.set_zlabel('W(x, p)')\n",
    "    ax.set_title('3D Wigner Function')\n",
    "\n",
    "    plt.tight_layout()\n",
    "    plt.show()\n",
    "\n",
    "    return\n",
    "\n",
    "interact(interactive_Wigner_Plot_3D, \n",
    "         r=widgets.FloatSlider(value=0, min=-3, max=3, step=0.1),\n",
    "         x_disp=widgets.FloatSlider(value=0.0, min=-4.0, max=4.0, step=0.1, description='x₀'),\n",
    "         y_disp=widgets.FloatSlider(value=0.0, min=-4.0, max=4.0, step=0.1, description='p₀'),\n",
    "         theta=widgets.FloatSlider(value=0.0, min=-2*np.pi, max=2*np.pi, step=0.1, description='theta'))"
   ]
  },
  {
   "cell_type": "code",
   "execution_count": 32,
   "id": "dde9d4f0",
   "metadata": {},
   "outputs": [
    {
     "name": "stdout",
     "output_type": "stream",
     "text": [
      "Timer unit: 1e-09 s\n",
      "\n",
      "Total time: 0 s\n",
      "File: /var/folders/l_/0gbbhqcj6wg0zv6lyz_3rhpc0000gn/T/ipykernel_23941/2157671244.py\n",
      "Function: compute_sigma at line 8\n",
      "\n",
      "Line #      Hits         Time  Per Hit   % Time  Line Contents\n",
      "==============================================================\n",
      "     8                                           def compute_sigma(theta, r):\n",
      "     9                                               S_theta = np.array([[np.cos(theta), np.sin(theta)],\n",
      "    10                                                                   [np.sin(theta), -np.cos(theta)]])\n",
      "    11                                               sigma = 0.5 * np.cosh(2*r)*np.eye(2) - 0.5 * np.sinh(2*r)*S_theta\n",
      "    12                                               return sigma\n",
      "\n",
      "Total time: 0 s\n",
      "File: /var/folders/l_/0gbbhqcj6wg0zv6lyz_3rhpc0000gn/T/ipykernel_23941/3424639327.py\n",
      "Function: inv at line 7\n",
      "\n",
      "Line #      Hits         Time  Per Hit   % Time  Line Contents\n",
      "==============================================================\n",
      "     7                                           def inv(sigma, delta):\n",
      "     8                                               return np.exp( -0.5 * (delta).T @ np.linalg.inv(sigma) @ (delta) )"
     ]
    }
   ],
   "source": [
    "%lprun -f compute_sigma -f inv wigner_function_numba(X, P, 0, 0, inv_sigma, det_sigma_sqrt, 0, 0)"
   ]
  },
  {
   "cell_type": "code",
   "execution_count": 35,
   "id": "cdfee8f8",
   "metadata": {},
   "outputs": [
    {
     "name": "stdout",
     "output_type": "stream",
     "text": [
      "631 μs ± 43.6 μs per loop (mean ± std. dev. of 7 runs, 1,000 loops each)\n"
     ]
    }
   ],
   "source": [
    "%timeit W = wigner_function_numba(X, P, 0, 0, inv_sigma, det_sigma_sqrt, 0, 0)"
   ]
  },
  {
   "cell_type": "code",
   "execution_count": 34,
   "id": "964e21ef",
   "metadata": {},
   "outputs": [
    {
     "data": {
      "text/plain": [
       "<matplotlib.contour.QuadContourSet at 0x11c42e710>"
      ]
     },
     "execution_count": 34,
     "metadata": {},
     "output_type": "execute_result"
    },
    {
     "data": {
      "image/png": "[encoded data removed]",
      "text/plain": [
       "<Figure size 640x480 with 1 Axes>"
      ]
     },
     "metadata": {},
     "output_type": "display_data"
    }
   ],
   "source": [
    "plt.contourf(X, P, W1, levels=50, cmap='magma')"
   ]
  },
  {
   "cell_type": "code",
   "execution_count": null,
   "id": "6fd5bab4",
   "metadata": {},
   "outputs": [],
   "source": []
  }
 ],
 "metadata": {
  "kernelspec": {
   "display_name": "numba_env (3.13.1)",
   "language": "python",
   "name": "python3"
  },
  "language_info": {
   "codemirror_mode": {
    "name": "ipython",
    "version": 3
   },
   "file_extension": ".py",
   "mimetype": "text/x-python",
   "name": "python",
   "nbconvert_exporter": "python",
   "pygments_lexer": "ipython3",
   "version": "3.13.1"
  }
 },
 "nbformat": 4,
 "nbformat_minor": 5
}
